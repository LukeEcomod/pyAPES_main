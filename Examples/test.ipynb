{
 "cells": [
  {
   "cell_type": "markdown",
   "id": "6f524721",
   "metadata": {},
   "source": [
    "## text"
   ]
  },
  {
   "cell_type": "code",
   "execution_count": 9,
   "id": "9d486bc8",
   "metadata": {},
   "outputs": [],
   "source": [
    "import sys\n",
    "sys.path.append(r\"c:\\repositories\\pyAPES_main\")"
   ]
  },
  {
   "cell_type": "code",
   "execution_count": 16,
   "id": "cdf99a58",
   "metadata": {},
   "outputs": [],
   "source": [
    "import pyAPES.canopy.canopy as cp"
   ]
  },
  {
   "cell_type": "code",
   "execution_count": 10,
   "id": "5d9e2ae1",
   "metadata": {},
   "outputs": [
    {
     "name": "stdout",
     "output_type": "stream",
     "text": [
      "C:\\Users\\03081268\\AppData\\Local\\miniconda3\\envs\\apes\\python38.zip\n",
      "C:\\Users\\03081268\\AppData\\Local\\miniconda3\\envs\\apes\\DLLs\n",
      "C:\\Users\\03081268\\AppData\\Local\\miniconda3\\envs\\apes\\lib\n",
      "C:\\Users\\03081268\\AppData\\Local\\miniconda3\\envs\\apes\n",
      "\n",
      "C:\\Users\\03081268\\AppData\\Local\\miniconda3\\envs\\apes\\lib\\site-packages\n",
      "C:\\Users\\03081268\\AppData\\Local\\miniconda3\\envs\\apes\\lib\\site-packages\\win32\n",
      "C:\\Users\\03081268\\AppData\\Local\\miniconda3\\envs\\apes\\lib\\site-packages\\win32\\lib\n",
      "C:\\Users\\03081268\\AppData\\Local\\miniconda3\\envs\\apes\\lib\\site-packages\\Pythonwin\n",
      "C:\\Users\\03081268\\AppData\\Local\\miniconda3\\envs\\apes\\lib\\site-packages\\IPython\\extensions\n",
      "C:\\Users\\03081268\\.ipython\n",
      "epositories\\pyAPES_main\n",
      "c:\\repositories\\pyAPES_main\n"
     ]
    }
   ],
   "source": [
    "#print(sys.path)\n",
    "for k in range(len(sys.path)):\n",
    "    print(sys.path[k])\n",
    "    "
   ]
  },
  {
   "cell_type": "code",
   "execution_count": 17,
   "id": "0794260e",
   "metadata": {},
   "outputs": [
    {
     "ename": "AttributeError",
     "evalue": "type object 'CanopyModel' has no attribute '__info__'",
     "output_type": "error",
     "traceback": [
      "Traceback \u001b[1;36m(most recent call last)\u001b[0m:\n",
      "\u001b[1;36m  File \u001b[1;32m\"C:\\Users\\03081268\\AppData\\Local\\Temp\\ipykernel_19292\\812306345.py\"\u001b[1;36m, line \u001b[1;32m1\u001b[1;36m, in \u001b[1;35m<module>\u001b[1;36m\u001b[0m\n\u001b[1;33m    cp.CanopyModel.__info__\u001b[0m\n",
      "\u001b[1;31mAttributeError\u001b[0m\u001b[1;31m:\u001b[0m type object 'CanopyModel' has no attribute '__info__'\n"
     ]
    }
   ],
   "source": []
  },
  {
   "cell_type": "code",
   "execution_count": null,
   "id": "0c6892fd",
   "metadata": {},
   "outputs": [],
   "source": []
  }
 ],
 "metadata": {
  "kernelspec": {
   "display_name": "Python 3 (Spyder)",
   "language": "python3",
   "name": "python3"
  },
  "language_info": {
   "codemirror_mode": {
    "name": "ipython",
    "version": 3
   },
   "file_extension": ".py",
   "mimetype": "text/x-python",
   "name": "python",
   "nbconvert_exporter": "python",
   "pygments_lexer": "ipython3",
   "version": "3.8.16"
  }
 },
 "nbformat": 4,
 "nbformat_minor": 5
}
