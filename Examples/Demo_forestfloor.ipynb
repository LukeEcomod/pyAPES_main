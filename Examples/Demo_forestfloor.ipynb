{
 "cells": [
  {
   "cell_type": "code",
   "execution_count": 1,
   "id": "9ad782ae-2cae-452b-a57d-facdc4c1687f",
   "metadata": {},
   "outputs": [],
   "source": [
    "import sys\n",
    "sys.path.append('/Users/jpnousu/pyAPES_main')\n",
    "import pandas as pd\n",
    "import matplotlib.pyplot as plt\n",
    "\n",
    "from pyAPES.utils.iotools import read_forcing\n",
    "from pyAPES.canopy.forestfloor import ForestFloor\n",
    "from pyAPES.parameters.mlm_parameters import gpara, cpara, spara # model configuration, canopy parameters, soil parameters"
   ]
  },
  {
   "cell_type": "code",
   "execution_count": 2,
   "id": "b227b26d-2549-4d5e-b973-a100c9f85a11",
   "metadata": {},
   "outputs": [
    {
     "name": "stderr",
     "output_type": "stream",
     "text": [
      "/Users/jpnousu/pyAPES_main/pyAPES/bottomlayer/organiclayer.py:1172: RuntimeWarning: invalid value encountered in power\n",
      "  Psi = -1e-2 / alfa*(s**(1.0 / m) - 1.0)**(1.0 / n)  # m\n"
     ]
    }
   ],
   "source": [
    "# Creating ForestFloor\n",
    "forestfloor = ForestFloor(cpara['forestfloor'])\n",
    "\n",
    "# Manipulating the params to correspond to those of Degerö\n",
    "gpara['forc_filename'] = r'/Users/jpnousu/pyAPES_main/forcing/Degero/Degero_forcing_2014-2016.dat'\n",
    "gpara['start_time'] = '2014-09-01'\n",
    "gpara['end_time'] = '2015-06-01'"
   ]
  },
  {
   "cell_type": "code",
   "execution_count": 3,
   "id": "dfb809f9-1a21-49c0-a22a-f375df51a027",
   "metadata": {},
   "outputs": [],
   "source": [
    "# Reading the forcing file\n",
    "forcing = read_forcing(\n",
    "    forcing_file=gpara['forc_filename'],\n",
    "    start_time=gpara['start_time'],\n",
    "    end_time=gpara['end_time'],\n",
    "    dt=gpara['dt']\n",
    ")\n",
    "\n",
    "forcing['Prec_liquid'] = forcing['Prec'].where(forcing['Tair'] > 1, 0)\n",
    "forcing['Prec_ice'] = forcing['Prec'].where(forcing['Tair'] <= 1, 0)"
   ]
  },
  {
   "cell_type": "code",
   "execution_count": 4,
   "id": "7432138a-843e-4240-aecd-495191094b38",
   "metadata": {},
   "outputs": [
    {
     "name": "stderr",
     "output_type": "stream",
     "text": [
      "/Users/jpnousu/pyAPES_main/pyAPES/bottomlayer/organiclayer.py:1172: RuntimeWarning: invalid value encountered in power\n",
      "  Psi = -1e-2 / alfa*(s**(1.0 / m) - 1.0)**(1.0 / n)  # m\n",
      "/Users/jpnousu/pyAPES_main/pyAPES/bottomlayer/organiclayer.py:1114: RuntimeWarning: invalid value encountered in power\n",
      "  relative_diffusivity = (np.power(Ta / 293.16, 1.75) * np.power(afp, 10.0/3.0) / porosity**2)\n"
     ]
    }
   ],
   "source": [
    "# Looping over the forcing file, running forestfloor model for each timestep and saving the results\n",
    "results_df = pd.DataFrame()\n",
    "\n",
    "for index, row in forcing.iterrows():\n",
    "    ff_forcing = {  # Reset the dictionary for each iteration\n",
    "        'precipitation_rain': row['Prec_liquid'], # kg m-2 s-1\n",
    "        'precipitation_snow': row['Prec_ice'], # kg m-2 s-1\n",
    "        'wind_speed': row['U'], # m/s\n",
    "        'par': row['diffPar'] + row['dirPar'],  # Total PAR [W m-2]\n",
    "        'nir': row['diffNir'] + row['dirNir'],  # Total NIR [W m-2]\n",
    "        'lw_dn': row['LWin'],  # Longwave downward radiation [W m-2]\n",
    "        'h2o': row['H2O'] / 1000,  # H2O [mol mol-1]\n",
    "        'co2': row['CO2'] * 1e6,  # Convert mol mol-1 to ppm\n",
    "        'air_temperature': row['Tdaily'],  # Air temperature [degC]\n",
    "        'air_pressure': row['P'],  # Air pressure [Pa]\n",
    "        'soil_temperature': 0, # Soil temperature [degC]\n",
    "        'soil_water_potential': -10,\n",
    "        'soil_volumetric_water': 0.3,\n",
    "        'soil_volumetric_air': 0.3,\n",
    "        'soil_pond_storage': 0\n",
    "    }\n",
    "    ff_params = {\n",
    "        'soil_thermal_conductivity': 0.8,\n",
    "        'soil_hydraulic_conductivity': 1e-5,\n",
    "        'soil_depth': 0.02,\n",
    "        'reference_height': 2.0,\n",
    "    }\n",
    "    ff_controls = {\n",
    "        'energy_balance': True,\n",
    "        'logger_info': 'test',\n",
    "    }\n",
    "    # --- solve forestfloor\n",
    "    ff_fluxes, ff_states, gt_results = forestfloor.run(\n",
    "                dt=gpara['dt'],\n",
    "                forcing=ff_forcing,\n",
    "                parameters=ff_params,\n",
    "                controls=ff_controls\n",
    "                )\n",
    "    \n",
    "    forestfloor.update()\n",
    "        \n",
    "    # Combine results into a single dictionary with all values as floats\n",
    "    combined_results = {\n",
    "        'time': index,  # Use the time index from the forcing DataFrame\n",
    "        **{f'gt_{key}': value[0] for key, value in gt_results.items()},  # Add gt_results\n",
    "        **{f'ff_{key}': value for key, value in ff_states.items()},  # Add gt_results\n",
    "\n",
    "    }\n",
    "\n",
    "    # Append the combined results to the results DataFrame\n",
    "    results_df = pd.concat([results_df, pd.DataFrame([combined_results])], ignore_index=True)\n",
    "\n",
    "results_df.set_index('time', inplace=True)"
   ]
  },
  {
   "cell_type": "code",
   "execution_count": 5,
   "metadata": {},
   "outputs": [
    {
     "data": {
      "text/plain": [
       "<matplotlib.legend.Legend at 0x13a3ba6d0>"
      ]
     },
     "execution_count": 5,
     "metadata": {},
     "output_type": "execute_result"
    },
    {
     "data": {
      "image/png": "[encoded data removed]",
      "text/plain": [
       "<Figure size 640x480 with 1 Axes>"
      ]
     },
     "metadata": {},
     "output_type": "display_data"
    }
   ],
   "source": [
    "results_df['ff_snow_water_equivalent'].plot(alpha=0.5, label='SWE')\n",
    "plt.legend()"
   ]
  },
  {
   "cell_type": "code",
   "execution_count": null,
   "metadata": {},
   "outputs": [],
   "source": []
  }
 ],
 "metadata": {
  "kernelspec": {
   "display_name": "Python 3 (ipykernel)",
   "language": "python",
   "name": "python3"
  },
  "language_info": {
   "codemirror_mode": {
    "name": "ipython",
    "version": 3
   },
   "file_extension": ".py",
   "mimetype": "text/x-python",
   "name": "python",
   "nbconvert_exporter": "python",
   "pygments_lexer": "ipython3",
   "version": "3.11.5"
  }
 },
 "nbformat": 4,
 "nbformat_minor": 5
}
