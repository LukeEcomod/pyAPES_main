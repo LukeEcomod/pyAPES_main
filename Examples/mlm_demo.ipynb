{
 "cells": [
  {
   "cell_type": "markdown",
   "metadata": {},
   "source": [
    "### pyAPES_MLM: Multi-layer soil-vegetation-atmosphere transfer model\n",
    "\n",
    "Demo how to:\n",
    "1. Set-up the model\n",
    "1. Run the model\n",
    "1. Retrieve the results using xarray"
   ]
  },
  {
   "cell_type": "code",
   "execution_count": 1,
   "metadata": {},
   "outputs": [],
   "source": [
    "# setting path\n",
    "import sys\n",
    "#sys.path.append('c:\\\\Repositories\\\\pyAPES_main')\n",
    "import os\n",
    "from dotenv import load_dotenv\n",
    "\n",
    "load_dotenv()\n",
    "pyAPES_main_folder = os.getenv('pyAPES_main_folder')\n",
    "\n",
    "sys.path.append(pyAPES_main_folder)\n"
   ]
  },
  {
   "cell_type": "code",
   "execution_count": 2,
   "metadata": {},
   "outputs": [
    {
     "data": {
      "text/plain": [
       "['c:\\\\Repositories\\\\pyAPES_main\\\\Examples',\n",
       " 'c:\\\\Users\\\\03081268\\\\AppData\\\\Local\\\\miniconda3\\\\envs\\\\apes\\\\python38.zip',\n",
       " 'c:\\\\Users\\\\03081268\\\\AppData\\\\Local\\\\miniconda3\\\\envs\\\\apes\\\\DLLs',\n",
       " 'c:\\\\Users\\\\03081268\\\\AppData\\\\Local\\\\miniconda3\\\\envs\\\\apes\\\\lib',\n",
       " 'c:\\\\Users\\\\03081268\\\\AppData\\\\Local\\\\miniconda3\\\\envs\\\\apes',\n",
       " '',\n",
       " 'c:\\\\Users\\\\03081268\\\\AppData\\\\Local\\\\miniconda3\\\\envs\\\\apes\\\\lib\\\\site-packages',\n",
       " 'c:\\\\Users\\\\03081268\\\\AppData\\\\Local\\\\miniconda3\\\\envs\\\\apes\\\\lib\\\\site-packages\\\\win32',\n",
       " 'c:\\\\Users\\\\03081268\\\\AppData\\\\Local\\\\miniconda3\\\\envs\\\\apes\\\\lib\\\\site-packages\\\\win32\\\\lib',\n",
       " 'c:\\\\Users\\\\03081268\\\\AppData\\\\Local\\\\miniconda3\\\\envs\\\\apes\\\\lib\\\\site-packages\\\\Pythonwin',\n",
       " 'C:\\\\Repositories\\\\pyAPES_main']"
      ]
     },
     "execution_count": 2,
     "metadata": {},
     "output_type": "execute_result"
    }
   ],
   "source": [
    "sys.path"
   ]
  },
  {
   "cell_type": "markdown",
   "metadata": {},
   "source": [
    "### Import modules"
   ]
  },
  {
   "cell_type": "code",
   "execution_count": 6,
   "metadata": {},
   "outputs": [],
   "source": [
    "# iotools for reading forcing data and model results\n",
    "from pyAPES.utils.iotools import read_forcing, read_results\n",
    "\n",
    "# import the multi-layer model (mlm) driver\n",
    "from pyAPES.models.mlm import driver\n",
    "\n",
    "# mlm setup (parameterization, forcing file & run info) defined in: pyAPES.models.mlm_parameters\n",
    "# output variables & logger configuration defined in: pyAPES.models.mlm_outputs (read by driver)\n",
    "\n",
    "from pyAPES.models.mlm_parameters import gpara, cpara, spara # model configuration, canopy parameters, soil parameters\n"
   ]
  },
  {
   "cell_type": "markdown",
   "metadata": {},
   "source": [
    "### Read forcing data and compile input for driver"
   ]
  },
  {
   "cell_type": "code",
   "execution_count": null,
   "metadata": {},
   "outputs": [],
   "source": [
    "forcing = read_forcing(\n",
    "    forc_filename=gpara['forc_filename'],\n",
    "    start_time=gpara['start_time'],\n",
    "    end_time=gpara['end_time'],\n",
    "    dt=gpara['dt']\n",
    ")\n",
    "\n",
    "params = {\n",
    "    'general': gpara,   # model configuration\n",
    "    'canopy': cpara,    # planttype, micromet, canopy, bottomlayer parameters\n",
    "    'soil': spara,      # soil heat and water flow parameters\n",
    "    'forcing': forcing  # forging data\n",
    "}"
   ]
  },
  {
   "cell_type": "markdown",
   "metadata": {},
   "source": [
    "### Run the model"
   ]
  },
  {
   "cell_type": "code",
   "execution_count": null,
   "metadata": {},
   "outputs": [],
   "source": [
    "resultfile, Model = driver(parameters=params,\n",
    "                           create_ncf=True,\n",
    "                           result_file= 'testrun.nc'\n",
    "                          )"
   ]
  }
 ],
 "metadata": {
  "kernelspec": {
   "display_name": "apes",
   "language": "python",
   "name": "python3"
  },
  "language_info": {
   "codemirror_mode": {
    "name": "ipython",
    "version": 3
   },
   "file_extension": ".py",
   "mimetype": "text/x-python",
   "name": "python",
   "nbconvert_exporter": "python",
   "pygments_lexer": "ipython3",
   "version": "3.8.16"
  },
  "orig_nbformat": 4
 },
 "nbformat": 4,
 "nbformat_minor": 2
}
