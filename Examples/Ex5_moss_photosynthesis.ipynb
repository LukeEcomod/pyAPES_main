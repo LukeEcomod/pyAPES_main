{
 "cells": [
  {
   "cell_type": "markdown",
   "metadata": {},
   "source": [
    "## Moss layer photosynthesis, respiration and net carbon balance\n",
    "\n",
    "### Explore:\n",
    "### 1. *pyAPES.bottomlayer.carbon* functions\n",
    "### 2. dataset from Williams & Flanagan, 1996. Oecologia\n"
   ]
  },
  {
   "cell_type": "code",
   "execution_count": 1,
   "metadata": {},
   "outputs": [],
   "source": [
    "# setting path\n",
    "import sys\n",
    "#sys.path.append('c:\\\\Repositories\\\\pyAPES_main')\n",
    "import os\n",
    "from dotenv import load_dotenv\n",
    "\n",
    "load_dotenv()\n",
    "pyAPES_main_folder = os.getenv('pyAPES_main_folder')\n",
    "\n",
    "sys.path.append(pyAPES_main_folder)\n",
    "#print(sys.path)"
   ]
  },
  {
   "cell_type": "code",
   "execution_count": 2,
   "metadata": {},
   "outputs": [],
   "source": [
    "# import moss carbon module\n",
    "import pyAPES.bottomlayer.carbon as mc\n",
    "\n",
    "import matplotlib.pyplot as plt\n",
    "import numpy as np\n",
    "import pandas as pd"
   ]
  },
  {
   "cell_type": "code",
   "execution_count": 3,
   "metadata": {},
   "outputs": [],
   "source": [
    "# typical Sphagnum -traits (Launiainen et al., 2023. GMD, in prep)\n",
    "\n",
    "Sphagnum = {\n",
    "    'name': 'Sphagnum sp.',\n",
    "    'layer_type': 'bryophyte',\n",
    "    'coverage': 0.0, # Note - now no sphagnum!\n",
    "    'height': 0.06,  # range: [0.044, 0.076]\n",
    "    'roughness_height': 0.02, # [m]\n",
    "    'bulk_density': 35.1,  # [kg m-3], range: [9.28, 46.7]\n",
    "    'max_water_content': 17.8,  # [g g-1 DM], range: [15.6, 24.4]\n",
    "    'water_content_ratio': 0.43,  # max_symplast_water_content:max_water_content -ratio\n",
    "    'min_water_content': 0.1, # [g g-1 DM]\n",
    "    'porosity': 0.98, # macroporosity [-]\n",
    "\n",
    "    'photosynthesis': {\n",
    "        'Vcmax': 45.0, 'Jmax': 85.5, 'Rd': 1.35, # [umol m-2 (ground) s-1] at 25 degC\n",
    "        'alpha': 0.3, 'theta': 0.8, 'beta': 0.9, # quantum yield, curvature, co-limitation\n",
    "        'gref': 0.04, 'wref': 7.65, 'a0': 0.7, 'a1': -0.263, 'CAP_desic': [0.58, 10.0],\n",
    "        'tresp': { # temperature response \n",
    "                'Vcmax': [78., 200., 649.], # [activation energy, deactivation energy, entropy factor [kJ mol-1]]\n",
    "                'Jmax': [56., 200., 646.],\n",
    "                'Rd': [33.0]\n",
    "                },\n",
    "    },\n",
    "    'optical_properties': { # moisture responses are hard-coded\n",
    "        'emissivity': 0.98,\n",
    "        'albedo': {'PAR': 0.10, 'NIR': 0.27} # albedos when fully hydrated [-]\n",
    "    },\n",
    "    'water_retention': {\n",
    "        'theta_s': 0.62,  # 1e-3*max_water_content * bulk_density\n",
    "        'theta_r': 0.26,  # 1e-3*water_content_ratio * max_water_content * bulk_density\n",
    "        'alpha': 0.381,  # air-entry potential [cm-1] \n",
    "        'n': 1.781,  # pore-size distribution [-]\n",
    "        'saturated_conductivity': 3.4e-4,  # [m s-1]\n",
    "        'pore_connectivity': -2.1  # [-]\n",
    "    },\n",
    "    'initial_conditions': {\n",
    "        'temperature': 10.0, # degC\n",
    "        'water_content': 20.0 # g g-1 DM\n",
    "    }\n",
    "}"
   ]
  },
  {
   "cell_type": "code",
   "execution_count": 8,
   "metadata": {},
   "outputs": [
    {
     "data": {
      "text/plain": [
       "[<matplotlib.lines.Line2D at 0x23c36aa1df0>]"
      ]
     },
     "execution_count": 8,
     "metadata": {},
     "output_type": "execute_result"
    },
    {
     "data": {
      "image/png": "[encoded data removed]",
      "text/plain": [
       "<Figure size 640x480 with 2 Axes>"
      ]
     },
     "metadata": {},
     "output_type": "display_data"
    }
   ],
   "source": [
    "# create array of water contents [g g-1 DM]\n",
    "\n",
    "w = np.linspace(Sphagnum['min_water_content'], Sphagnum['max_water_content'], 100)\n",
    "wmax = Sphagnum['max_water_content']\n",
    "\n",
    "cond_para = {'gref': 0.04, 'wref': 7.65, 'a0': 0.7, 'a1': -0.263}\n",
    "desic_para = {'CAP_desic': [0.58, 10.0]}\n",
    "gc = mc.conductance(cond_para, w) \n",
    "\n",
    "cap = mc.relative_capacity(desic_para, w)\n",
    "\n",
    "# figure\n",
    "fig, ax = plt.subplots(1,2)\n",
    "\n",
    "ax[0].plot(w/wmax)\n",
    "ax[1].plot(w/wmax, gc/cond_para['gref'])"
   ]
  }
 ],
 "metadata": {
  "kernelspec": {
   "display_name": "apes",
   "language": "python",
   "name": "python3"
  },
  "language_info": {
   "codemirror_mode": {
    "name": "ipython",
    "version": 3
   },
   "file_extension": ".py",
   "mimetype": "text/x-python",
   "name": "python",
   "nbconvert_exporter": "python",
   "pygments_lexer": "ipython3",
   "version": "3.8.16"
  }
 },
 "nbformat": 4,
 "nbformat_minor": 2
}
